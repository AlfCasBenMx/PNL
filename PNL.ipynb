{
 "cells": [
  {
   "cell_type": "markdown",
   "metadata": {},
   "source": [
    "# Programación no lineal \n",
    "## Busqueda multidimensional sin el uso de derivadas. "
   ]
  },
  {
   "cell_type": "markdown",
   "metadata": {},
   "source": [
    "Consideremos el problema de querer minimizar una función $f$de varias variables sin usar derivadas.\n"
   ]
  },
  {
   "cell_type": "markdown",
   "metadata": {},
   "source": [
    "El método consiste en, dado un vector $x$ determinamos una dirección adecuada $d$, entonces $f$ es minimizada desde $x$ en la dirección $d$"
   ]
  },
  {
   "cell_type": "markdown",
   "metadata": {},
   "source": [
    "##  Método de la coordenadas ciclicas "
   ]
  },
  {
   "cell_type": "markdown",
   "metadata": {},
   "source": [
    "Este método usa los ejes como direcciones de busqueda, más espcificamente en las direcciones $d_1,d_2,..,d_n$ donde $d_j$ es un vector de la forma $(0,0,0,...,0,1,0,...)$ de el elemento $j$ del vector es 1 y los otros 0, durante el algoritmo de busqueda la vaariable $x_j$ es modificada mientras todas las demás se quedan fijas...."
   ]
  },
  {
   "cell_type": "markdown",
   "metadata": {},
   "source": [
    "### Metodología\n",
    "#### Paso inicial: \n",
    "Definir un escalar $\\varepsilon >0$ esté será usado para el algoritmo de terminación y sean $d_1,d_2,..,d_n$ las direcciones, escoja un punto inicial $x_1$ defina $y_1=x_1$ y $k=j=1$ y vaya al paso principal\n",
    "#### Pasos principales:\n",
    "* Sea $\\lambda_j$ una solución optima para el problema de minimizar $f(y_j+\\lambda d_j)$ con $\\lambda \\in R$ y sea $y_{j+1}=y_{j}+\\lambda_j d_j$ si $j<n$ reemplaar por $j+1$ y repite el paso en caso de $j=n$ entonces ir al paso 2 \n",
    "* Sea $x_{k+1}=y_{n+1}$, si $||x_{k+1}-x_k||<\\varepsilon$ entonces se concluye en caso contrario reemplazar &k& por $k+1$ e ir al paso 1."
   ]
  },
  {
   "cell_type": "code",
   "execution_count": null,
   "metadata": {},
   "outputs": [],
   "source": [
    "\n",
    "    "
   ]
  },
  {
   "cell_type": "markdown",
   "metadata": {},
   "source": [
    "### Ejemplo\n",
    "\n",
    "$Min(x1-2)^4+(x1-2x_2)^2$"
   ]
  },
  {
   "cell_type": "code",
   "execution_count": 1,
   "metadata": {},
   "outputs": [],
   "source": [
    "import numpy as np\n",
    "def function(x1,x2):\n",
    "    return (((x1-2)**4)+(x1-(2*x2))**2)\n",
    "def norma(A,B):\n",
    "    return (sum((a - b)**2 for a, b in zip(A, B)))**(1/2) \n",
    "\n"
   ]
  },
  {
   "cell_type": "code",
   "execution_count": 13,
   "metadata": {},
   "outputs": [
    {
     "name": "stdout",
     "output_type": "stream",
     "text": [
      "[3.13 3.  ]\n",
      "[3.13 1.56]\n",
      "[2.63 1.56]\n",
      "[2.63 1.32]\n",
      "[2.45 1.32]\n",
      "[2.45 1.23]\n",
      "[2.36 1.23]\n",
      "[2.36 1.18]\n",
      "[2.3  1.18]\n",
      "[2.3  1.15]\n",
      "[2.26 1.15]\n",
      "[2.26 1.13]\n",
      "[2.23 1.13]\n",
      "[2.23 1.12]\n",
      "[2.22 1.12]\n",
      "[2.22 1.11]\n",
      "[2.2  1.11]\n",
      "[2.2 1.1]\n",
      "[2.19 1.1 ]\n",
      "[2.19 1.1 ]\n",
      "[2.19 1.1 ]\n",
      "[2.19 1.1 ]\n"
     ]
    },
    {
     "data": {
      "text/plain": [
       "0.0014032099999456591"
      ]
     },
     "execution_count": 13,
     "metadata": {},
     "output_type": "execute_result"
    }
   ],
   "source": [
    "xnew=np.array([100,10])    \n",
    "x=np.array([0,3])\n",
    "d=np.array([[1,0],[0,1]])\n",
    "l= np.arange(-5.0, 5.0, 0.01)\n",
    "while norma(x,xnew)>.001:\n",
    "    xnew=x\n",
    "    for eje in d:\n",
    "        argmin=np.argmin([function(*(x+(z*eje))) for z in l])\n",
    "        print(x+l[argmin]*eje)\n",
    "        x=x+l[argmin]*eje\n",
    "function(*x)"
   ]
  },
  {
   "cell_type": "code",
   "execution_count": null,
   "metadata": {},
   "outputs": [],
   "source": []
  }
 ],
 "metadata": {
  "kernelspec": {
   "display_name": "Python 3",
   "language": "python",
   "name": "python3"
  },
  "language_info": {
   "codemirror_mode": {
    "name": "ipython",
    "version": 3
   },
   "file_extension": ".py",
   "mimetype": "text/x-python",
   "name": "python",
   "nbconvert_exporter": "python",
   "pygments_lexer": "ipython3",
   "version": "3.7.6"
  }
 },
 "nbformat": 4,
 "nbformat_minor": 4
}
